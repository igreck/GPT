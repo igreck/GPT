{
 "cells": [
  {
   "cell_type": "code",
   "execution_count": null,
   "id": "3f489a2f",
   "metadata": {},
   "outputs": [],
   "source": [
    "import random\n",
    "import torch\n",
    "from datasets import load_dataset\n",
    "from torch.utils.data import DataLoader\n",
    "from transformers import AutoTokenizer\n",
    "from typing import Tuple"
   ]
  },
  {
   "cell_type": "code",
   "execution_count": null,
   "id": "d0c12295",
   "metadata": {},
   "outputs": [],
   "source": [
    "    # Reproducibility\n",
    "    random.seed(seed)\n",
    "    torch.manual_seed(seed)\n",
    "\n",
    "    reasoning_start = \"<start_working_out>\" # Acts as <think>\n",
    "    reasoning_end   = \"<end_working_out>\"   # Acts as </think>\n",
    "    solution_start  = \"<SOLUTION>\"\n",
    "    solution_end    = \"</SOLUTION>\"\n"
   ]
  }
 ],
 "metadata": {
  "kernelspec": {
   "display_name": "Python 3",
   "language": "python",
   "name": "python3"
  },
  "language_info": {
   "name": "python",
   "version": "3.10.12"
  }
 },
 "nbformat": 4,
 "nbformat_minor": 5
}
